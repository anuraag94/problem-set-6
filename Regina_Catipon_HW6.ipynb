{
 "cells": [
  {
   "cell_type": "code",
   "execution_count": 2,
   "metadata": {},
   "outputs": [],
   "source": [
    "import sklearn\n",
    "\n",
    "import numpy as np\n",
    "import pandas as pd\n",
    "import matplotlib.pyplot as plt\n",
    "import seaborn"
   ]
  },
  {
   "cell_type": "markdown",
   "metadata": {},
   "source": [
    "# <span style=\"color:blue\">Homework 6: Support Vector Machines\n",
    "## <span style=\"color:blue\">Conceptual exercises\n",
    "\n",
    "<span style=\"color:blue\">Non-linear separation\n",
    "\n",
    "<span style=\"color:blue\">1. (15 points) Generate a simulated two-class data set with 100 observations and two features in which there is a visible (clear) but still non-linear separation between the two classes. Show that in this setting, a support vector machine with a radial kernel will outperform a support vector classifier (a linear kernel) on the training data. Which technique performs best on the test data? Make plots and report training and test error rates in order to support your conclusions."
   ]
  },
  {
   "cell_type": "code",
   "execution_count": 532,
   "metadata": {},
   "outputs": [],
   "source": [
    "from sklearn.datasets import make_blobs\n",
    "\n",
    "def multiBlobs(noise = 0, numPerCategory = 100, centers = 2):\n",
    "    if isinstance(centers, int):\n",
    "        n_samples = numPerCategory * centers\n",
    "    else:\n",
    "        n_samples = numPerCategory * len(centers)\n",
    "    X, y = sklearn.datasets.make_blobs(n_samples=n_samples, centers=centers, cluster_std = (.6 * (noise * 6)))\n",
    "    datDict = {\n",
    "        'vect' : list(X),\n",
    "        'category' : y,\n",
    "    }\n",
    "    return pd.DataFrame(datDict)"
   ]
  },
  {
   "cell_type": "code",
   "execution_count": 624,
   "metadata": {},
   "outputs": [],
   "source": [
    "from sklearn.model_selection import train_test_split\n",
    "\n",
    "noise = 0.8\n",
    "data = multiBlobs(noise)\n",
    "dfTrain, dfTest = train_test_split(data)"
   ]
  },
  {
   "cell_type": "code",
   "execution_count": 625,
   "metadata": {},
   "outputs": [
    {
     "name": "stderr",
     "output_type": "stream",
     "text": [
      "'c' argument looks like a single numeric RGB or RGBA sequence, which should be avoided as value-mapping will have precedence in case its length matches with 'x' & 'y'.  Please use a 2-D array with a single row if you really want to specify the same RGB or RGBA value for all points.\n",
      "'c' argument looks like a single numeric RGB or RGBA sequence, which should be avoided as value-mapping will have precedence in case its length matches with 'x' & 'y'.  Please use a 2-D array with a single row if you really want to specify the same RGB or RGBA value for all points.\n"
     ]
    },
    {
     "data": {
      "image/png": "[encoded data removed]",
      "text/plain": [
       "<Figure size 720x720 with 1 Axes>"
      ]
     },
     "metadata": {
      "needs_background": "light"
     },
     "output_type": "display_data"
    }
   ],
   "source": [
    "def plotter(df):\n",
    "    fig, ax = plt.subplots(figsize = (10,10))\n",
    "    pallet = seaborn.color_palette(palette='rainbow', n_colors= len(set(df['category'])))\n",
    "    for i, cat in enumerate(set(df['category'])):\n",
    "        a = np.stack(df[df['category'] == cat]['vect'])\n",
    "        ax.scatter(a[:,0], a[:, 1], c = pallet[i], label = cat)\n",
    "    ax.legend(loc = 'center right', title = 'Categories')\n",
    "    ax.axis('off')\n",
    "    plt.show()\n",
    "    plt.close()\n",
    "    \n",
    "plotter(data)"
   ]
  },
  {
   "cell_type": "code",
   "execution_count": 555,
   "metadata": {},
   "outputs": [],
   "source": [
    "from sklearn.svm import SVC, LinearSVC"
   ]
  },
  {
   "cell_type": "code",
   "execution_count": 626,
   "metadata": {},
   "outputs": [],
   "source": [
    "svc = SVC(kernel = 'linear')"
   ]
  },
  {
   "cell_type": "code",
   "execution_count": 627,
   "metadata": {},
   "outputs": [
    {
     "data": {
      "text/plain": [
       "SVC(C=1.0, cache_size=200, class_weight=None, coef0=0.0,\n",
       "    decision_function_shape='ovr', degree=3, gamma='auto_deprecated',\n",
       "    kernel='linear', max_iter=-1, probability=False, random_state=None,\n",
       "    shrinking=True, tol=0.001, verbose=False)"
      ]
     },
     "execution_count": 627,
     "metadata": {},
     "output_type": "execute_result"
    }
   ],
   "source": [
    "X_train = np.stack(dfTrain['vect'], axis=0)\n",
    "svc.fit(X_train, dfTrain['category'])"
   ]
  },
  {
   "cell_type": "code",
   "execution_count": 628,
   "metadata": {},
   "outputs": [
    {
     "data": {
      "text/plain": [
       "0.9733333333333334"
      ]
     },
     "execution_count": 628,
     "metadata": {},
     "output_type": "execute_result"
    }
   ],
   "source": [
    "from sklearn.metrics import accuracy_score\n",
    "accuracy_score(svc.predict(X_train), dfTrain['category'])"
   ]
  },
  {
   "cell_type": "code",
   "execution_count": 629,
   "metadata": {},
   "outputs": [
    {
     "data": {
      "text/plain": [
       "SVC(C=1.0, cache_size=200, class_weight=None, coef0=0.0,\n",
       "    decision_function_shape='ovr', degree=3, gamma='scale', kernel='rbf',\n",
       "    max_iter=-1, probability=False, random_state=None, shrinking=True,\n",
       "    tol=0.001, verbose=False)"
      ]
     },
     "execution_count": 629,
     "metadata": {},
     "output_type": "execute_result"
    }
   ],
   "source": [
    "svm = SVC(kernel = 'rbf', gamma='scale')\n",
    "svm.fit(X_train, dfTrain['category'])"
   ]
  },
  {
   "cell_type": "code",
   "execution_count": 630,
   "metadata": {},
   "outputs": [
    {
     "data": {
      "text/plain": [
       "0.9866666666666667"
      ]
     },
     "execution_count": 630,
     "metadata": {},
     "output_type": "execute_result"
    }
   ],
   "source": [
    "accuracy_score(svm.predict(X_train), dfTrain['category'])"
   ]
  },
  {
   "cell_type": "code",
   "execution_count": 632,
   "metadata": {},
   "outputs": [],
   "source": [
    "def plotregions(clf, df, h = .01):\n",
    "\n",
    "    transformedDF = df\n",
    "    catsMap = {c : i for i, c in enumerate(np.unique(df['category']))}\n",
    "\n",
    "    fig, ax = plt.subplots(figsize = (6,6))\n",
    "    ax.axis('off')\n",
    "    pallet = seaborn.color_palette(palette='rainbow', n_colors = len(set(transformedDF['category'])))\n",
    "\n",
    "    if np.random.choice(df['vect']).shape[0] > 2:\n",
    "        xx, yy = np.meshgrid(np.arange(1.1 * reduced_data[:,0].min(),\n",
    "                1.1 * reduced_data[:,0].max(), h),\n",
    "            np.arange(1.1 * reduced_data[:,1].min(),\n",
    "                1.1 * reduced_data[:,1].max(), h))\n",
    "        Z = clf.predict(pca.inverse_transform(np.c_[xx.ravel(), yy.ravel()]))\n",
    "    else:\n",
    "        reduced_data = np.stack(df['vect'], axis=0)\n",
    "        xx, yy = np.meshgrid(np.arange(1.1 * reduced_data[:,0].min(),\n",
    "                1.1 * reduced_data[:,0].max(), h),\n",
    "            np.arange(1.1 * reduced_data[:,1].min(),\n",
    "                1.1 * reduced_data[:,1].max(), h))\n",
    "\n",
    "        Z = clf.predict(np.c_[xx.ravel(), yy.ravel()])\n",
    "    Z = np.vectorize(lambda x: catsMap[x])(Z)\n",
    "    Z = Z.reshape(xx.shape)\n",
    "    plt.contourf(xx, yy, Z, alpha=0.5, cmap=plt.cm.coolwarm)\n",
    "    for i, cat in enumerate(set(df['category'])):\n",
    "        a = np.stack(transformedDF[transformedDF['category'] == cat]['vect'])\n",
    "        ax.scatter(a[:,0], a[:, 1], c = pallet[catsMap[cat]], label = cat)\n",
    "    ax.legend(loc = 'center right', title = 'Categories')\n",
    "    plt.show()\n",
    "    plt.close()"
   ]
  },
  {
   "cell_type": "code",
   "execution_count": 633,
   "metadata": {},
   "outputs": [
    {
     "name": "stderr",
     "output_type": "stream",
     "text": [
      "'c' argument looks like a single numeric RGB or RGBA sequence, which should be avoided as value-mapping will have precedence in case its length matches with 'x' & 'y'.  Please use a 2-D array with a single row if you really want to specify the same RGB or RGBA value for all points.\n",
      "'c' argument looks like a single numeric RGB or RGBA sequence, which should be avoided as value-mapping will have precedence in case its length matches with 'x' & 'y'.  Please use a 2-D array with a single row if you really want to specify the same RGB or RGBA value for all points.\n"
     ]
    },
    {
     "data": {
      "image/png": "[encoded data removed]",
      "text/plain": [
       "<Figure size 432x432 with 1 Axes>"
      ]
     },
     "metadata": {
      "needs_background": "light"
     },
     "output_type": "display_data"
    }
   ],
   "source": [
    "plotregions(svc, dfTrain)"
   ]
  },
  {
   "cell_type": "code",
   "execution_count": 634,
   "metadata": {},
   "outputs": [
    {
     "name": "stderr",
     "output_type": "stream",
     "text": [
      "'c' argument looks like a single numeric RGB or RGBA sequence, which should be avoided as value-mapping will have precedence in case its length matches with 'x' & 'y'.  Please use a 2-D array with a single row if you really want to specify the same RGB or RGBA value for all points.\n",
      "'c' argument looks like a single numeric RGB or RGBA sequence, which should be avoided as value-mapping will have precedence in case its length matches with 'x' & 'y'.  Please use a 2-D array with a single row if you really want to specify the same RGB or RGBA value for all points.\n"
     ]
    },
    {
     "data": {
      "image/png": "[encoded data removed]",
      "text/plain": [
       "<Figure size 432x432 with 1 Axes>"
      ]
     },
     "metadata": {
      "needs_background": "light"
     },
     "output_type": "display_data"
    }
   ],
   "source": [
    "plotregions(svm, dfTrain)"
   ]
  },
  {
   "cell_type": "code",
   "execution_count": 635,
   "metadata": {},
   "outputs": [
    {
     "name": "stdout",
     "output_type": "stream",
     "text": [
      "svm 0.94\n",
      "svc 0.94\n"
     ]
    }
   ],
   "source": [
    "X_test = np.stack(dfTest['vect'], axis=0)\n",
    "print('svm', accuracy_score(svm.predict(X_test), dfTest['category']))\n",
    "print('svc', accuracy_score(svc.predict(X_test), dfTest['category']))"
   ]
  },
  {
   "cell_type": "markdown",
   "metadata": {},
   "source": [
    "Because of the non-linear separation between the two classes, the linear SVC did not performa as well as the the radial kernel SVM on the training. Both models, however, did equally well on the testing dataset. "
   ]
  },
  {
   "cell_type": "markdown",
   "metadata": {},
   "source": [
    "## <span style=\"color:blue\">SVM vs. logistic regression\n",
    "<span style=\"color:blue\">We have seen that we can fit an SVM with a non-linear kernel in order to perform classification using a non-linear decision boundary. We will now see that we can also obtain a non-linear decision boundary by performing logistic regression using non-linear transformations of the features. Your goal here is to compare different approaches to estimating non-linear decision boundaries, and thus assess the benefits and drawbacks of each.\n",
    "\n",
    "2. <span style=\"color:blue\">(5 points) Generate a data set with $n = 500$ and $p = 2$, such that the observations belong to two classes with some overlapping, non-linear boundary between them."
   ]
  },
  {
   "cell_type": "code",
   "execution_count": 774,
   "metadata": {},
   "outputs": [],
   "source": [
    "#set X1 and X2\n",
    "\n",
    "x1 = np.random.uniform(-1,1, 500)\n",
    "x2 = np.random.uniform(-1,1, 500)\n"
   ]
  },
  {
   "cell_type": "code",
   "execution_count": 775,
   "metadata": {},
   "outputs": [],
   "source": [
    "# generate data\n",
    "epsilon = np.random.uniform(0,0.5, 500)\n",
    "y = x1 + x2 + x2**2 + epsilon"
   ]
  },
  {
   "cell_type": "markdown",
   "metadata": {},
   "source": [
    "3. <span style=\"color:blue\">(5 points) Plot the observations with colors according to their class labels ($y$). Your plot should display $X_1$ on the $x$-axis and $X_2$ on the $y$-axis."
   ]
  },
  {
   "cell_type": "code",
   "execution_count": 776,
   "metadata": {},
   "outputs": [
    {
     "data": {
      "image/png": "[encoded data removed]",
      "text/plain": [
       "<Figure size 432x432 with 1 Axes>"
      ]
     },
     "metadata": {
      "needs_background": "light"
     },
     "output_type": "display_data"
    }
   ],
   "source": [
    "fig, ax = plt.subplots(figsize = (6,6))\n",
    "pallet = seaborn.color_palette(palette='rainbow', n_colors= 2)\n",
    "ax.scatter(x1[y >= 0],x2[y >= 0])\n",
    "ax.scatter(x1[y <= 0],x2[y <= 0])\n",
    "ax.legend(['>0','<0'], loc = 'center right')\n",
    "ax.axis('on')\n",
    "plt.xlabel('$X_1$')\n",
    "plt.ylabel('$X_2$')\n",
    "plt.show()\n",
    "plt.close()"
   ]
  },
  {
   "cell_type": "markdown",
   "metadata": {},
   "source": [
    "4. <span style=\"color:blue\">(5 points) Fit a logistic regression model to the data, using $X_1$ and $X_2$ as predictors."
   ]
  },
  {
   "cell_type": "code",
   "execution_count": 777,
   "metadata": {},
   "outputs": [],
   "source": [
    "# have to stack x1 and x2 for log reg\n",
    "linear_prep = np.stack((x1, x2), axis=1)"
   ]
  },
  {
   "cell_type": "code",
   "execution_count": 778,
   "metadata": {},
   "outputs": [
    {
     "name": "stderr",
     "output_type": "stream",
     "text": [
      "/Users/reginacatipon/anaconda3/lib/python3.7/site-packages/sklearn/linear_model/logistic.py:432: FutureWarning: Default solver will be changed to 'lbfgs' in 0.22. Specify a solver to silence this warning.\n",
      "  FutureWarning)\n"
     ]
    },
    {
     "data": {
      "text/plain": [
       "LogisticRegression(C=1.0, class_weight=None, dual=False, fit_intercept=True,\n",
       "                   intercept_scaling=1, l1_ratio=None, max_iter=100,\n",
       "                   multi_class='warn', n_jobs=None, penalty='l2',\n",
       "                   random_state=None, solver='warn', tol=0.0001, verbose=0,\n",
       "                   warm_start=False)"
      ]
     },
     "execution_count": 778,
     "metadata": {},
     "output_type": "execute_result"
    }
   ],
   "source": [
    "from sklearn.linear_model import LogisticRegression\n",
    "log_reg = (sklearn.linear_model.LogisticRegression())\n",
    "\n",
    "log_reg.fit(linear_prep, y >= 0)\n",
    "\n"
   ]
  },
  {
   "cell_type": "markdown",
   "metadata": {},
   "source": [
    "5. <span style=\"color:blue\">(5 points) Obtain a predicted class label for each observation based on the logistic model previously fit. Plot the observations, colored according to the predicted class labels (the predicted decision boundary should look linear)."
   ]
  },
  {
   "cell_type": "code",
   "execution_count": 779,
   "metadata": {},
   "outputs": [],
   "source": [
    "#predict classes\n",
    "pred_log = log_reg.predict(linear_prep)"
   ]
  },
  {
   "cell_type": "code",
   "execution_count": 780,
   "metadata": {},
   "outputs": [
    {
     "data": {
      "image/png": "[encoded data removed]",
      "text/plain": [
       "<Figure size 432x432 with 1 Axes>"
      ]
     },
     "metadata": {
      "needs_background": "light"
     },
     "output_type": "display_data"
    }
   ],
   "source": [
    "#plot classes\n",
    "fig, ax = plt.subplots(figsize = (6,6))\n",
    "pallet = seaborn.color_palette(palette='rainbow', n_colors= 2)\n",
    "plt.scatter(x1[pred_log],x2[pred_log]) \n",
    "plt.scatter(x1[~pred_log],x2[~pred_log]) \n",
    "ax.legend(['>0','<0'], loc = 'center right')\n",
    "ax.axis('on')\n",
    "plt.xlabel('$X_1$')\n",
    "plt.ylabel('$X_2$')\n",
    "plt.show()\n",
    "plt.close()"
   ]
  },
  {
   "cell_type": "markdown",
   "metadata": {},
   "source": [
    "<span style=\"color:blue\">6. <span style=\"color:blue\">(5 points) Now fit a logistic regression model to the data, but this time using some non-linear function of both $X_1$ and $X_2$ as predictors (e.g. $X_1^2, X_1 \\times X_2, \\log(X_2)$, and so on)."
   ]
  },
  {
   "cell_type": "code",
   "execution_count": 781,
   "metadata": {},
   "outputs": [
    {
     "name": "stderr",
     "output_type": "stream",
     "text": [
      "/Users/reginacatipon/anaconda3/lib/python3.7/site-packages/sklearn/linear_model/logistic.py:432: FutureWarning: Default solver will be changed to 'lbfgs' in 0.22. Specify a solver to silence this warning.\n",
      "  FutureWarning)\n"
     ]
    }
   ],
   "source": [
    "import math\n",
    "# variable x1 times x2\n",
    "\n",
    "nonlinear_func = np.stack((x1, x2,(x1**2),(x2**2)), axis=1)\n",
    "output = y >=0\n",
    "#logistic regression\n",
    "non_lr = LogisticRegression().fit(nonlinear_func, output ) "
   ]
  },
  {
   "cell_type": "markdown",
   "metadata": {},
   "source": [
    "<span style=\"color:blue\">7. (5 points) Now, obtain a predicted class label for each observation based on the fitted model with non-linear transformations of the $X$ features in the previous question. Plot the observations, colored according to the new predicted class labels from the non-linear model (the decision boundary should now be obviously non-linear). If it is not, then repeat earlier steps until you come up with an example in which the predicted class labels and the resultant decision boundary are clearly non-linear."
   ]
  },
  {
   "cell_type": "code",
   "execution_count": 782,
   "metadata": {},
   "outputs": [],
   "source": [
    "pred_non_lr = non_lr.predict(nonlinear_func)"
   ]
  },
  {
   "cell_type": "code",
   "execution_count": 783,
   "metadata": {},
   "outputs": [
    {
     "data": {
      "image/png": "[encoded data removed]",
      "text/plain": [
       "<Figure size 432x432 with 1 Axes>"
      ]
     },
     "metadata": {
      "needs_background": "light"
     },
     "output_type": "display_data"
    }
   ],
   "source": [
    "\n",
    "# predictions with nonlinear\n",
    "fig, ax = plt.subplots(figsize = (6,6))\n",
    "pallet = seaborn.color_palette(palette='rainbow', n_colors= 2)\n",
    "plt.scatter(x1[pred_non_lr],x2[pred_non_lr]) \n",
    "plt.scatter(x1[~pred_non_lr],x2[~pred_non_lr]) \n",
    "ax.legend(['>0','<0'], loc = 'center right')\n",
    "ax.axis('on')\n",
    "plt.xlabel('$X_1$')\n",
    "plt.ylabel('$X_2$')\n",
    "plt.show()\n",
    "plt.close()"
   ]
  },
  {
   "cell_type": "markdown",
   "metadata": {},
   "source": [
    "<span style=\"color:blue\">8. (5 points) Now, fit a support vector classifier (linear kernel) to the data with original $X_1$ and $X_2$ as predictors. Obtain a class prediction for each observation. Plot the observations, colored according to the predicted class labels."
   ]
  },
  {
   "cell_type": "code",
   "execution_count": 784,
   "metadata": {},
   "outputs": [],
   "source": [
    "svc = SVC(kernel='linear').fit(linear_prep, output)\n",
    "svc_pred = svc.predict(linear_prep)\n"
   ]
  },
  {
   "cell_type": "code",
   "execution_count": 785,
   "metadata": {},
   "outputs": [
    {
     "data": {
      "image/png": "[encoded data removed]",
      "text/plain": [
       "<Figure size 432x432 with 1 Axes>"
      ]
     },
     "metadata": {
      "needs_background": "light"
     },
     "output_type": "display_data"
    }
   ],
   "source": [
    "# predictions with svc\n",
    "fig, ax = plt.subplots(figsize = (6,6))\n",
    "#pallet = seaborn.color_palette(palette='rainbow', n_colors= 3)\n",
    "plt.scatter(x1[svc_pred],x2[svc_pred], color = 'c') \n",
    "plt.scatter(x1[~svc_pred],x2[~svc_pred], color = 'salmon') \n",
    "ax.legend(['>0','<0'], loc = 'center right')\n",
    "ax.axis('on')\n",
    "plt.xlabel('$X_1$')\n",
    "plt.ylabel('$X_2$')\n",
    "plt.show()\n",
    "plt.close()"
   ]
  },
  {
   "cell_type": "markdown",
   "metadata": {},
   "source": [
    "<span style=\"color:blue\">9. (5 points) Fit a SVM using a non-linear kernel to the data. Obtain a class prediction for each observation. Plot the observations, colored according to the predicted class labels."
   ]
  },
  {
   "cell_type": "code",
   "execution_count": 786,
   "metadata": {},
   "outputs": [
    {
     "name": "stderr",
     "output_type": "stream",
     "text": [
      "/Users/reginacatipon/anaconda3/lib/python3.7/site-packages/sklearn/svm/base.py:193: FutureWarning: The default value of gamma will change from 'auto' to 'scale' in version 0.22 to account better for unscaled features. Set gamma explicitly to 'auto' or 'scale' to avoid this warning.\n",
      "  \"avoid this warning.\", FutureWarning)\n"
     ]
    }
   ],
   "source": [
    "#svm classifier\n",
    "svm.fit(linear_prep, output)\n",
    "svm_pred = svm.predict(linear_prep)"
   ]
  },
  {
   "cell_type": "code",
   "execution_count": 788,
   "metadata": {},
   "outputs": [
    {
     "data": {
      "image/png": "[encoded data removed]",
      "text/plain": [
       "<Figure size 432x432 with 1 Axes>"
      ]
     },
     "metadata": {
      "needs_background": "light"
     },
     "output_type": "display_data"
    }
   ],
   "source": [
    "#plot svm\n",
    "fig, ax = plt.subplots(figsize = (6,6))\n",
    "#pallet = seaborn.color_palette(palette='rainbow', n_colors= 3)\n",
    "plt.scatter(x1[svm_pred],x2[svm_pred], color = 'c') \n",
    "plt.scatter(x1[~svm_pred],x2[~svm_pred], color = 'salmon') \n",
    "ax.legend(['>0','<0'], loc = 'center right')\n",
    "ax.axis('on')\n",
    "plt.xlabel('$X_1$')\n",
    "plt.ylabel('$X_2$')\n",
    "plt.show()\n",
    "plt.close()"
   ]
  },
  {
   "cell_type": "markdown",
   "metadata": {},
   "source": [
    "<span style=\"color:blue\">10. (5 points) Discuss your results and specifically the tradeoffs between estimating non-linear decision boundaries using these two different approaches."
   ]
  },
  {
   "cell_type": "code",
   "execution_count": 790,
   "metadata": {},
   "outputs": [
    {
     "name": "stdout",
     "output_type": "stream",
     "text": [
      "0.924\n",
      "0.95\n",
      "0.924\n",
      "0.948\n"
     ]
    }
   ],
   "source": [
    "print(accuracy_score(pred_log, output))\n",
    "print(accuracy_score(pred_non_lr, output))\n",
    "print(accuracy_score(svc_pred, output))\n",
    "print(accuracy_score(svm_pred, output))"
   ]
  },
  {
   "cell_type": "markdown",
   "metadata": {},
   "source": [
    "Between the different boundary types, we see that the prediction accuracy from the logistic regression using a non-inear function actually performs the best out all the models. This is probably due to the fact that the non-linear function was similar to the base data generation function. However, using SVM was a close second in accuracy and did quite well in estimating the non-linear decision boundary."
   ]
  },
  {
   "cell_type": "markdown",
   "metadata": {},
   "source": [
    "## <span style=\"color:blue\">Tuning cost\n",
    "<span style=\"color:blue\">In class we learned that in the case of data that is just barely linearly separable, a support vector classifier with a small value of cost that misclassifies a couple of training observations may perform better on test data than one with a huge value of cost that does not misclassify any training observations. You will now investigate that claim.\n",
    "\n",
    "<span style=\"color:blue\">11. (5 points) Generate two-class data with $p=2$ in such a way that the classes are just barely linearly separable."
   ]
  },
  {
   "cell_type": "code",
   "execution_count": 305,
   "metadata": {},
   "outputs": [],
   "source": [
    "def multiBlobs(noise = 0, numPerCategory = 100, centers = 2):\n",
    "    if isinstance(centers, int):\n",
    "        n_samples = numPerCategory * centers\n",
    "    else:\n",
    "        n_samples = numPerCategory * len(centers)\n",
    "    X, y = sklearn.datasets.make_blobs(n_samples=n_samples, centers=centers, cluster_std = (.6 * (noise * 6)))\n",
    "    datDict = {\n",
    "        'vect' : list(X),\n",
    "        'category' : y,\n",
    "    }\n",
    "    return pd.DataFrame(datDict)"
   ]
  },
  {
   "cell_type": "code",
   "execution_count": 314,
   "metadata": {},
   "outputs": [],
   "source": [
    "noise = 0.6\n",
    "data_2 = multiBlobs(noise)\n",
    "dfTrain, dfTest = train_test_split(data_2)"
   ]
  },
  {
   "cell_type": "code",
   "execution_count": 315,
   "metadata": {},
   "outputs": [
    {
     "name": "stderr",
     "output_type": "stream",
     "text": [
      "'c' argument looks like a single numeric RGB or RGBA sequence, which should be avoided as value-mapping will have precedence in case its length matches with 'x' & 'y'.  Please use a 2-D array with a single row if you really want to specify the same RGB or RGBA value for all points.\n",
      "'c' argument looks like a single numeric RGB or RGBA sequence, which should be avoided as value-mapping will have precedence in case its length matches with 'x' & 'y'.  Please use a 2-D array with a single row if you really want to specify the same RGB or RGBA value for all points.\n"
     ]
    },
    {
     "data": {
      "image/png": "[encoded data removed]",
      "text/plain": [
       "<Figure size 720x720 with 1 Axes>"
      ]
     },
     "metadata": {
      "needs_background": "light"
     },
     "output_type": "display_data"
    }
   ],
   "source": [
    "plotter(data_2)"
   ]
  },
  {
   "cell_type": "markdown",
   "metadata": {},
   "source": [
    "<span style=\"color:blue\">12. (5 points) Compute the cross-validation error rates for support vector classifiers with a range of cost values. How many training errors are made for each value of cost considered, and how does this relate to the cross-validation errors obtained?\n",
    "\n"
   ]
  },
  {
   "cell_type": "code",
   "execution_count": 792,
   "metadata": {},
   "outputs": [
    {
     "name": "stdout",
     "output_type": "stream",
     "text": [
      "cv error for C = 0.5\n",
      "0.045952380952380856\n",
      "cv error for C = 1.0\n",
      "0.03928571428571426\n",
      "cv error for C = 1.5\n",
      "0.03928571428571426\n",
      "cv error for C = 2.0\n",
      "0.045952380952380856\n",
      "cv error for C = 2.5\n",
      "0.045952380952380856\n"
     ]
    }
   ],
   "source": [
    "costs = np.arange(0.5, 3, 0.5)\n",
    "\n",
    "X_train = np.stack(dfTrain['vect'], axis =0)\n",
    "y_train = dfTrain['category']\n",
    "\n",
    "for cost in costs:\n",
    "    svc_linear = SVC(C=cost, kernel = 'linear')\n",
    "    print('cv error for C = {}'.format(cost))\n",
    "    accu = cross_val_score(svc_linear, X_train, \n",
    "                           y_train, scoring = 'accuracy', cv = 10)\n",
    "    \n",
    "    print(1-np.mean(accu))\n",
    "    "
   ]
  },
  {
   "cell_type": "markdown",
   "metadata": {},
   "source": [
    "<span style=\"color:blue\">13. (5 points) Generate an appropriate test data set, and compute the test errors corresponding to each of the values of cost considered. Which value of cost leads to the fewest test errors, and how does this compare to the values of cost that yield the fewest training errors and the fewest cross-validation errors?\n"
   ]
  },
  {
   "cell_type": "code",
   "execution_count": 283,
   "metadata": {},
   "outputs": [
    {
     "data": {
      "text/html": [
       "<div>\n",
       "<style scoped>\n",
       "    .dataframe tbody tr th:only-of-type {\n",
       "        vertical-align: middle;\n",
       "    }\n",
       "\n",
       "    .dataframe tbody tr th {\n",
       "        vertical-align: top;\n",
       "    }\n",
       "\n",
       "    .dataframe thead th {\n",
       "        text-align: right;\n",
       "    }\n",
       "</style>\n",
       "<table border=\"1\" class=\"dataframe\">\n",
       "  <thead>\n",
       "    <tr style=\"text-align: right;\">\n",
       "      <th></th>\n",
       "      <th>vect</th>\n",
       "      <th>category</th>\n",
       "    </tr>\n",
       "  </thead>\n",
       "  <tbody>\n",
       "    <tr>\n",
       "      <td>170</td>\n",
       "      <td>[-4.57510217154708, 2.97463383847121]</td>\n",
       "      <td>0</td>\n",
       "    </tr>\n",
       "    <tr>\n",
       "      <td>119</td>\n",
       "      <td>[0.03143049528769626, 7.765868041615752]</td>\n",
       "      <td>1</td>\n",
       "    </tr>\n",
       "    <tr>\n",
       "      <td>52</td>\n",
       "      <td>[7.128040936041439, 10.61613400100343]</td>\n",
       "      <td>1</td>\n",
       "    </tr>\n",
       "    <tr>\n",
       "      <td>93</td>\n",
       "      <td>[-1.3634811022291884, 5.048278794338122]</td>\n",
       "      <td>1</td>\n",
       "    </tr>\n",
       "    <tr>\n",
       "      <td>68</td>\n",
       "      <td>[-9.481173211727787, 8.50171624636198]</td>\n",
       "      <td>0</td>\n",
       "    </tr>\n",
       "  </tbody>\n",
       "</table>\n",
       "</div>"
      ],
      "text/plain": [
       "                                         vect  category\n",
       "170     [-4.57510217154708, 2.97463383847121]         0\n",
       "119  [0.03143049528769626, 7.765868041615752]         1\n",
       "52     [7.128040936041439, 10.61613400100343]         1\n",
       "93   [-1.3634811022291884, 5.048278794338122]         1\n",
       "68     [-9.481173211727787, 8.50171624636198]         0"
      ]
     },
     "execution_count": 283,
     "metadata": {},
     "output_type": "execute_result"
    }
   ],
   "source": [
    "dfTest.head()"
   ]
  },
  {
   "cell_type": "code",
   "execution_count": 791,
   "metadata": {},
   "outputs": [
    {
     "name": "stdout",
     "output_type": "stream",
     "text": [
      "cv error for C = 0.5\n",
      "0.039879951980792305\n",
      "cv error for C = 1.0\n",
      "0.039879951980792305\n",
      "cv error for C = 1.5\n",
      "0.039879951980792305\n",
      "cv error for C = 2.0\n",
      "0.039879951980792305\n",
      "cv error for C = 2.5\n",
      "0.039879951980792305\n"
     ]
    },
    {
     "name": "stderr",
     "output_type": "stream",
     "text": [
      "/Users/reginacatipon/anaconda3/lib/python3.7/site-packages/sklearn/model_selection/_split.py:1978: FutureWarning: The default value of cv will change from 3 to 5 in version 0.22. Specify it explicitly to silence this warning.\n",
      "  warnings.warn(CV_WARNING, FutureWarning)\n",
      "/Users/reginacatipon/anaconda3/lib/python3.7/site-packages/sklearn/model_selection/_split.py:1978: FutureWarning: The default value of cv will change from 3 to 5 in version 0.22. Specify it explicitly to silence this warning.\n",
      "  warnings.warn(CV_WARNING, FutureWarning)\n",
      "/Users/reginacatipon/anaconda3/lib/python3.7/site-packages/sklearn/model_selection/_split.py:1978: FutureWarning: The default value of cv will change from 3 to 5 in version 0.22. Specify it explicitly to silence this warning.\n",
      "  warnings.warn(CV_WARNING, FutureWarning)\n",
      "/Users/reginacatipon/anaconda3/lib/python3.7/site-packages/sklearn/model_selection/_split.py:1978: FutureWarning: The default value of cv will change from 3 to 5 in version 0.22. Specify it explicitly to silence this warning.\n",
      "  warnings.warn(CV_WARNING, FutureWarning)\n",
      "/Users/reginacatipon/anaconda3/lib/python3.7/site-packages/sklearn/model_selection/_split.py:1978: FutureWarning: The default value of cv will change from 3 to 5 in version 0.22. Specify it explicitly to silence this warning.\n",
      "  warnings.warn(CV_WARNING, FutureWarning)\n"
     ]
    }
   ],
   "source": [
    "X_test = np.stack(dfTrain['vect'], axis =0)\n",
    "y_test = dfTrain['category']\n",
    "\n",
    "for cost in costs:\n",
    "    svc_linear = SVC(C=cost, kernel = 'linear')\n",
    "    svc_linear.fit(X_train, y_train)\n",
    "    preds = svc_linear.predict(X_test)\n",
    "    print('cv error for C = {}'.format(cost))\n",
    "    accu = cross_val_score(svc_linear, X_test, y_test)\n",
    "    print(1 - np.mean(accu))\n",
    "    "
   ]
  },
  {
   "cell_type": "markdown",
   "metadata": {},
   "source": [
    "<span style=\"color:blue\">14. (5 points) Discuss your results."
   ]
  },
  {
   "cell_type": "markdown",
   "metadata": {},
   "source": [
    "Cross validation error remained in training was lowest with a cost value of 1 and 1.5. For the test error, we saw no change with the different values of cost."
   ]
  },
  {
   "cell_type": "markdown",
   "metadata": {},
   "source": [
    "## <span style=\"color:blue\">Application: Predicting attitudes towards racist college professors\n",
    "<span style=\"color:blue\">In this problem set, you are going to return to the GSS question from last week and predict attitudes towards racist college professors. Recall, each respondent was asked \"Should a person who believes that Blacks are genetically inferior be allowed to teach in a college or university?\" Given the kerfuffle over Richard J. Herrnstein and Charles Murray's The Bell Curve and the ostracization of Nobel laureate James Watson over his controversial views on race and intelligence, this analysis will provide further insight into the public debate over this issue.\n",
    "\n",
    "<span style=\"color:blue\">gss_*.csv contain a selection of features from the 2012 GSS. The outcome of interest colrac is a binary variable coded as either ALLOWED or NOT ALLOWED, where 1 = the racist professor should be allowed to teach, and 0 = the racist professor should not be allowed to teach. Documentation for the other predictors (if the variable is not clearly coded) can be viewed here. Some data pre-processing has been done in advance for you to ease your model fitting: (1) Missing values have been imputed; (2) Categorical variables with low-frequency classes had those classes collapsed into an \"other\" category; (3) Nominal variables with more than two classes have been converted to dummy variables; and (4) Remaining categorical variables have been converted to integer values, stripping their original labels.\n",
    "\n",
    "<span style=\"color:blue\">This week, building on last week's problem set, you will approach this classification problem from an SVM-based framework.\n",
    "\n",
    "<span style=\"color:blue\">15. (5 points) Fit a support vector classifier to predict colrac as a function of all available predictors, using 10-fold cross-validation to find an optimal value for cost. Report the CV errors associated with different values of cost, and discuss your results.\n",
    "\n",
    "<span style=\"color:blue\">16. (15 points) Repeat the previous question, but this time using SVMs with radial and polynomial basis kernels, with different values for gamma and degree and cost. Present and discuss your results (e.g., fit, compare kernels, cost, substantive conclusions across fits, etc.)."
   ]
  },
  {
   "cell_type": "code",
   "execution_count": 195,
   "metadata": {},
   "outputs": [],
   "source": [
    "gss_train = pd.read_csv('./data/gss_train.csv')"
   ]
  },
  {
   "cell_type": "code",
   "execution_count": 197,
   "metadata": {},
   "outputs": [
    {
     "data": {
      "text/html": [
       "<div>\n",
       "<style scoped>\n",
       "    .dataframe tbody tr th:only-of-type {\n",
       "        vertical-align: middle;\n",
       "    }\n",
       "\n",
       "    .dataframe tbody tr th {\n",
       "        vertical-align: top;\n",
       "    }\n",
       "\n",
       "    .dataframe thead th {\n",
       "        text-align: right;\n",
       "    }\n",
       "</style>\n",
       "<table border=\"1\" class=\"dataframe\">\n",
       "  <thead>\n",
       "    <tr style=\"text-align: right;\">\n",
       "      <th></th>\n",
       "      <th>age</th>\n",
       "      <th>attend</th>\n",
       "      <th>authoritarianism</th>\n",
       "      <th>black</th>\n",
       "      <th>born</th>\n",
       "      <th>childs</th>\n",
       "      <th>colath</th>\n",
       "      <th>colrac</th>\n",
       "      <th>colcom</th>\n",
       "      <th>colmil</th>\n",
       "      <th>...</th>\n",
       "      <th>partyid_3_Ind</th>\n",
       "      <th>partyid_3_Rep</th>\n",
       "      <th>relig_CATHOLIC</th>\n",
       "      <th>relig_NONE</th>\n",
       "      <th>relig_other</th>\n",
       "      <th>social_cons3_Mod</th>\n",
       "      <th>social_cons3_Conserv</th>\n",
       "      <th>spend3_Mod</th>\n",
       "      <th>spend3_Liberal</th>\n",
       "      <th>zodiac_other</th>\n",
       "    </tr>\n",
       "  </thead>\n",
       "  <tbody>\n",
       "    <tr>\n",
       "      <td>0</td>\n",
       "      <td>21</td>\n",
       "      <td>0</td>\n",
       "      <td>4</td>\n",
       "      <td>0</td>\n",
       "      <td>0</td>\n",
       "      <td>0</td>\n",
       "      <td>1</td>\n",
       "      <td>1</td>\n",
       "      <td>0</td>\n",
       "      <td>1</td>\n",
       "      <td>...</td>\n",
       "      <td>1</td>\n",
       "      <td>0</td>\n",
       "      <td>1</td>\n",
       "      <td>0</td>\n",
       "      <td>0</td>\n",
       "      <td>1</td>\n",
       "      <td>0</td>\n",
       "      <td>0</td>\n",
       "      <td>0</td>\n",
       "      <td>1</td>\n",
       "    </tr>\n",
       "    <tr>\n",
       "      <td>1</td>\n",
       "      <td>42</td>\n",
       "      <td>0</td>\n",
       "      <td>4</td>\n",
       "      <td>0</td>\n",
       "      <td>0</td>\n",
       "      <td>2</td>\n",
       "      <td>0</td>\n",
       "      <td>1</td>\n",
       "      <td>1</td>\n",
       "      <td>0</td>\n",
       "      <td>...</td>\n",
       "      <td>1</td>\n",
       "      <td>0</td>\n",
       "      <td>0</td>\n",
       "      <td>0</td>\n",
       "      <td>0</td>\n",
       "      <td>0</td>\n",
       "      <td>0</td>\n",
       "      <td>1</td>\n",
       "      <td>0</td>\n",
       "      <td>1</td>\n",
       "    </tr>\n",
       "    <tr>\n",
       "      <td>2</td>\n",
       "      <td>70</td>\n",
       "      <td>1</td>\n",
       "      <td>1</td>\n",
       "      <td>1</td>\n",
       "      <td>0</td>\n",
       "      <td>3</td>\n",
       "      <td>0</td>\n",
       "      <td>1</td>\n",
       "      <td>1</td>\n",
       "      <td>0</td>\n",
       "      <td>...</td>\n",
       "      <td>0</td>\n",
       "      <td>0</td>\n",
       "      <td>0</td>\n",
       "      <td>0</td>\n",
       "      <td>0</td>\n",
       "      <td>0</td>\n",
       "      <td>0</td>\n",
       "      <td>0</td>\n",
       "      <td>0</td>\n",
       "      <td>1</td>\n",
       "    </tr>\n",
       "    <tr>\n",
       "      <td>3</td>\n",
       "      <td>35</td>\n",
       "      <td>3</td>\n",
       "      <td>2</td>\n",
       "      <td>0</td>\n",
       "      <td>0</td>\n",
       "      <td>2</td>\n",
       "      <td>0</td>\n",
       "      <td>1</td>\n",
       "      <td>0</td>\n",
       "      <td>1</td>\n",
       "      <td>...</td>\n",
       "      <td>1</td>\n",
       "      <td>0</td>\n",
       "      <td>0</td>\n",
       "      <td>0</td>\n",
       "      <td>1</td>\n",
       "      <td>0</td>\n",
       "      <td>0</td>\n",
       "      <td>0</td>\n",
       "      <td>1</td>\n",
       "      <td>1</td>\n",
       "    </tr>\n",
       "    <tr>\n",
       "      <td>4</td>\n",
       "      <td>24</td>\n",
       "      <td>3</td>\n",
       "      <td>6</td>\n",
       "      <td>0</td>\n",
       "      <td>1</td>\n",
       "      <td>3</td>\n",
       "      <td>1</td>\n",
       "      <td>1</td>\n",
       "      <td>0</td>\n",
       "      <td>0</td>\n",
       "      <td>...</td>\n",
       "      <td>1</td>\n",
       "      <td>0</td>\n",
       "      <td>1</td>\n",
       "      <td>0</td>\n",
       "      <td>0</td>\n",
       "      <td>1</td>\n",
       "      <td>0</td>\n",
       "      <td>0</td>\n",
       "      <td>0</td>\n",
       "      <td>1</td>\n",
       "    </tr>\n",
       "  </tbody>\n",
       "</table>\n",
       "<p>5 rows × 56 columns</p>\n",
       "</div>"
      ],
      "text/plain": [
       "   age  attend  authoritarianism  black  born  childs  colath  colrac  colcom  \\\n",
       "0   21       0                 4      0     0       0       1       1       0   \n",
       "1   42       0                 4      0     0       2       0       1       1   \n",
       "2   70       1                 1      1     0       3       0       1       1   \n",
       "3   35       3                 2      0     0       2       0       1       0   \n",
       "4   24       3                 6      0     1       3       1       1       0   \n",
       "\n",
       "   colmil  ...  partyid_3_Ind  partyid_3_Rep  relig_CATHOLIC  relig_NONE  \\\n",
       "0       1  ...              1              0               1           0   \n",
       "1       0  ...              1              0               0           0   \n",
       "2       0  ...              0              0               0           0   \n",
       "3       1  ...              1              0               0           0   \n",
       "4       0  ...              1              0               1           0   \n",
       "\n",
       "   relig_other  social_cons3_Mod  social_cons3_Conserv  spend3_Mod  \\\n",
       "0            0                 1                     0           0   \n",
       "1            0                 0                     0           1   \n",
       "2            0                 0                     0           0   \n",
       "3            1                 0                     0           0   \n",
       "4            0                 1                     0           0   \n",
       "\n",
       "   spend3_Liberal  zodiac_other  \n",
       "0               0             1  \n",
       "1               0             1  \n",
       "2               0             1  \n",
       "3               1             1  \n",
       "4               0             1  \n",
       "\n",
       "[5 rows x 56 columns]"
      ]
     },
     "execution_count": 197,
     "metadata": {},
     "output_type": "execute_result"
    }
   ],
   "source": [
    "gss_train.head()"
   ]
  },
  {
   "cell_type": "code",
   "execution_count": 198,
   "metadata": {},
   "outputs": [],
   "source": [
    "X_train = gss_train.drop(['colrac'], axis=1) \n",
    "y_train = gss_train['colrac']"
   ]
  },
  {
   "cell_type": "code",
   "execution_count": 239,
   "metadata": {},
   "outputs": [],
   "source": [
    "# set costs\n",
    "import numpy as np\n",
    "costs = np.arange(0.5, 3, 0.5)\n"
   ]
  },
  {
   "cell_type": "code",
   "execution_count": 240,
   "metadata": {},
   "outputs": [
    {
     "name": "stdout",
     "output_type": "stream",
     "text": [
      "cv error for C = 0.5\n",
      "0.7967491186570764\n",
      "cv error for C = 1.0\n",
      "0.7940418195212058\n",
      "cv error for C = 1.5\n",
      "0.7933615474123623\n",
      "cv error for C = 2.0\n",
      "0.7933615474123623\n",
      "cv error for C = 2.5\n",
      "0.794037223088038\n"
     ]
    }
   ],
   "source": [
    "from sklearn.model_selection import cross_val_score\n",
    "for cost in costs:\n",
    "    svc_linear = SVC(C=cost, kernel = 'linear')\n",
    "    #svc_linear.fit(X_train, y_train)\n",
    "    print('cv error for C = {}'.format(cost))\n",
    "    accu = cross_val_score(svc_linear, X_train, \n",
    "                           y_train, scoring = 'accuracy', cv = 10)\n",
    "    \n",
    "    print(np.mean(accu))\n",
    "    "
   ]
  },
  {
   "cell_type": "markdown",
   "metadata": {},
   "source": [
    "The cross validation error is lowest when the cost is 0.5."
   ]
  },
  {
   "cell_type": "code",
   "execution_count": 793,
   "metadata": {},
   "outputs": [
    {
     "name": "stdout",
     "output_type": "stream",
     "text": [
      "cv error for C = 0.5\n",
      "and gamma = auto\n",
      "0.9875\n",
      "cv error for C = 0.5\n",
      "and gamma = scale\n",
      "0.9674404761904762\n",
      "cv error for C = 1.0\n",
      "and gamma = auto\n",
      "0.9870833333333333\n",
      "cv error for C = 1.0\n",
      "and gamma = scale\n",
      "0.9741071428571428\n",
      "cv error for C = 1.5\n",
      "and gamma = auto\n",
      "0.9870833333333333\n",
      "cv error for C = 1.5\n",
      "and gamma = scale\n",
      "0.9741071428571428\n",
      "cv error for C = 2.0\n",
      "and gamma = auto\n",
      "0.99375\n",
      "cv error for C = 2.0\n",
      "and gamma = scale\n",
      "0.9741071428571428\n",
      "cv error for C = 2.5\n",
      "and gamma = auto\n",
      "0.99375\n",
      "cv error for C = 2.5\n",
      "and gamma = scale\n",
      "0.9678571428571429\n"
     ]
    }
   ],
   "source": [
    "gammas = ['auto', 'scale']\n",
    "\n",
    "for cost in costs:\n",
    "    for gamma in gammas:\n",
    "        svm = SVC(C=cost, kernel = 'rbf', gamma=gamma)\n",
    "        svm_score = cross_val_score(svm, X_train, \n",
    "                               y_train, scoring = 'accuracy', cv = 10)\n",
    "        print('cv error for C = {}'.format(cost))\n",
    "        print('and gamma = {}'.format(gamma))\n",
    "        print(np.mean(svm_score))\n"
   ]
  },
  {
   "cell_type": "markdown",
   "metadata": {},
   "source": [
    "From a cost of 2.0 to 2.5 and with an auto gamma, the radial kernel performed the best.According to the sklearn documentation, the gamma parameter defines how close or far a sample's radius will be as a support vector. "
   ]
  },
  {
   "cell_type": "code",
   "execution_count": 245,
   "metadata": {},
   "outputs": [
    {
     "name": "stdout",
     "output_type": "stream",
     "text": [
      "cv error for C = 0.5 and degree = 0\n",
      "0.5253223981411901\n",
      "cv error for C = 0.5 and degree = 0\n",
      "0.5253223981411901\n",
      "cv error for C = 0.5 and degree = 1\n",
      "0.7940554854265305\n",
      "cv error for C = 0.5 and degree = 1\n",
      "0.70500570081107\n",
      "cv error for C = 0.5 and degree = 2\n",
      "0.7744192761450671\n",
      "cv error for C = 0.5 and degree = 2\n",
      "0.7366674132014497\n",
      "cv error for C = 0.5 and degree = 3\n",
      "0.7379461470784577\n",
      "cv error for C = 0.5 and degree = 3\n",
      "0.7365988985835583\n",
      "cv error for C = 0.5 and degree = 4\n",
      "0.7372794791778492\n",
      "cv error for C = 0.5 and degree = 4\n",
      "0.7237650402079931\n",
      "cv error for C = 1.0 and degree = 0\n",
      "0.5253223981411901\n",
      "cv error for C = 1.0 and degree = 0\n",
      "0.5253223981411901\n",
      "cv error for C = 1.0 and degree = 1\n",
      "0.7981096628747635\n",
      "cv error for C = 1.0 and degree = 1\n",
      "0.732631498091709\n",
      "cv error for C = 1.0 and degree = 2\n",
      "0.7744011988978432\n",
      "cv error for C = 1.0 and degree = 2\n",
      "0.7548563630059315\n",
      "cv error for C = 1.0 and degree = 3\n",
      "0.7379461470784577\n",
      "cv error for C = 1.0 and degree = 3\n",
      "0.745382805761521\n",
      "cv error for C = 1.0 and degree = 4\n",
      "0.7372794791778492\n",
      "cv error for C = 1.0 and degree = 4\n",
      "0.7507518098841206\n",
      "cv error for C = 1.5 and degree = 0\n",
      "0.5253223981411901\n",
      "cv error for C = 1.5 and degree = 0\n",
      "0.5253223981411901\n",
      "cv error for C = 1.5 and degree = 1\n",
      "0.80013675159888\n",
      "cv error for C = 1.5 and degree = 1\n",
      "0.7454605749428377\n",
      "cv error for C = 1.5 and degree = 2\n",
      "0.7696988009787626\n",
      "cv error for C = 1.5 and degree = 2\n",
      "0.7582074095736608\n",
      "cv error for C = 1.5 and degree = 3\n",
      "0.7379461470784577\n",
      "cv error for C = 1.5 and degree = 3\n",
      "0.7568558731310409\n",
      "cv error for C = 1.5 and degree = 4\n",
      "0.7372794791778492\n",
      "cv error for C = 1.5 and degree = 4\n",
      "0.7608781840325464\n",
      "cv error for C = 2.0 and degree = 0\n",
      "0.5253223981411901\n",
      "cv error for C = 2.0 and degree = 0\n",
      "0.5253223981411901\n",
      "cv error for C = 2.0 and degree = 1\n",
      "0.798776330775372\n",
      "cv error for C = 2.0 and degree = 1\n",
      "0.7501584381258398\n",
      "cv error for C = 2.0 and degree = 2\n",
      "0.7629555867331514\n",
      "cv error for C = 2.0 and degree = 2\n",
      "0.7642886140489209\n",
      "cv error for C = 2.0 and degree = 3\n",
      "0.7379461470784577\n",
      "cv error for C = 2.0 and degree = 3\n",
      "0.7629372626975695\n",
      "cv error for C = 2.0 and degree = 4\n",
      "0.7372794791778492\n",
      "cv error for C = 2.0 and degree = 4\n",
      "0.7622204659117411\n",
      "cv error for C = 2.5 and degree = 0\n",
      "0.5253223981411901\n",
      "cv error for C = 2.5 and degree = 0\n",
      "0.5253223981411901\n",
      "cv error for C = 2.5 and degree = 1\n",
      "0.7980960586665286\n",
      "cv error for C = 2.5 and degree = 1\n",
      "0.7555776945278383\n",
      "cv error for C = 2.5 and degree = 2\n",
      "0.7643069380845028\n",
      "cv error for C = 2.5 and degree = 2\n",
      "0.7656445001363507\n",
      "cv error for C = 2.5 and degree = 3\n",
      "0.7379461470784577\n",
      "cv error for C = 2.5 and degree = 3\n",
      "0.7676489151800754\n",
      "cv error for C = 2.5 and degree = 4\n",
      "0.7372794791778492\n",
      "cv error for C = 2.5 and degree = 4\n",
      "0.7642520276748466\n"
     ]
    }
   ],
   "source": [
    "degrees = range(0,5)\n",
    "\n",
    "for cost in costs:\n",
    "    for degree in degrees:\n",
    "        for gamma in gammas:\n",
    "            svc_poly = SVC(C = cost, kernel = 'poly', degree=degree, gamma = gamma)\n",
    "            svc_poly_score = cross_val_score(svc_poly, X_train, \n",
    "                                       y_train, scoring = 'accuracy', cv = 10)\n",
    "            print('cv error for C = {}'.format(cost), 'and degree = {}'.format(degree))\n",
    "            print(np.mean(svc_poly_score))\n",
    "        "
   ]
  },
  {
   "cell_type": "markdown",
   "metadata": {},
   "source": [
    "It's difficult to extract strong meaning from the attitudes towards racist college professors in th dataset from this exercise alone. It would seem that the best performing parameters of the polynomial kernel was when the degree was 1 and the cost was 1.5 suggesting that the poly was not the best fit for the data but rather a linear kernel would be  a better match."
   ]
  },
  {
   "cell_type": "code",
   "execution_count": null,
   "metadata": {},
   "outputs": [],
   "source": []
  }
 ],
 "metadata": {
  "kernelspec": {
   "display_name": "Python 3",
   "language": "python",
   "name": "python3"
  },
  "language_info": {
   "codemirror_mode": {
    "name": "ipython",
    "version": 3
   },
   "file_extension": ".py",
   "mimetype": "text/x-python",
   "name": "python",
   "nbconvert_exporter": "python",
   "pygments_lexer": "ipython3",
   "version": "3.7.4"
  }
 },
 "nbformat": 4,
 "nbformat_minor": 2
}
